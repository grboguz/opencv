{
  "nbformat": 4,
  "nbformat_minor": 5,
  "metadata": {
    "kernelspec": {
      "display_name": "Python 3",
      "language": "python",
      "name": "python3"
    },
    "language_info": {
      "codemirror_mode": {
        "name": "ipython",
        "version": 3
      },
      "file_extension": ".py",
      "mimetype": "text/x-python",
      "name": "python",
      "nbconvert_exporter": "python",
      "pygments_lexer": "ipython3",
      "version": "3.8.8"
    },
    "colab": {
      "name": "OpenCV Kılavuzu.ipynb",
      "provenance": []
    }
  },
  "cells": [
    {
      "cell_type": "markdown",
      "metadata": {
        "id": "HiijQL2c4r9_"
      },
      "source": [
        "<table align=\"center\">\n",
        "  <td align=\"center\"><a target=\"_blank\" href=\"https://github.com/grboguz/Derin-Ogrenmeye-Giris\">\n",
        "        <img src=\"https://deeplearning.mit.edu/files/images/github/icon_github.png\" style=\"padding-bottom:5px;\"  />Kaynak Kodları Görüntüle</a></td>\n",
        "  <td align=\"center\"><a target=\"_blank\" align=\"center\" href=\"https://www.youtube.com/playlist?list=PLIkM6e1pad00WeNmjhFXJ-2xc3VP7_K7S\">\n",
        "        <img src=\"https://deeplearning.mit.edu/files/images/github/icon_youtube.png\" style=\"padding-bottom:5px;\" />Oynatma Listesini Görüntüle</a></td>\n",
        "  <td align=\"center\"><a target=\"_blank\" href=\"https://discord.gg/YW6mdcMnFF\">\n",
        "        <img src=\"https://i.ibb.co/m5fNddp/dc.png\" style=\"padding-bottom:5px;\"  />Discord Destek !</a></td>\n",
        "<!--   <td><a target=\"_blank\" href=\"link\">\n",
        "        <img src=\"image\" />text</a></td> -->\n",
        "</table>\n"
      ],
      "id": "HiijQL2c4r9_"
    },
    {
      "cell_type": "markdown",
      "metadata": {
        "id": "x83JPeGU42L6"
      },
      "source": [
        "# **OpenCV**\n",
        "\n",
        "Basitçe tanımlamak gerekirse; OpenCV, dijital ortamlardaki görselleri (fotoğraf,video..) kullanarak algılama (detection) ve tanıma (recognition) işlemlerinin kolaylıkla yapılabildiği bir bilgisayarlı görü (computer vision) kütüphanesidir. Açılımı “Open Source Computer Vision Library“, yani “Açık Kaynaklı Bilgisayarlı Görü Kütüphanesi“.\n",
        "\n",
        "**Bu not defterine ait ders videosuna ulaşmak için [buraya](https://www.youtube.com/watch?v=UlUyBobP9tA) tıklayabilirsiniz.**\n",
        "\n",
        "![My Image](https://38.media.tumblr.com/29fd981a0cfe8dc497711f4a9e73eb30/tumblr_nnp7j8CLW81qfjvexo1_500.gif)\n",
        "\n",
        "OpenCV ilk olarak, Intel’de 1999 yılında Gary Bradsky tarafından geliştirilmeye başlandı ve ilk sürümü 2000 yılında çıktı. O yıllarda daha henüz emekleme aşamasında olan kütüphanemiz, yıllar yılı üzerine katarak ilerledi ve şuanki halini aldı. Günümüzde ise o denli popüler hale geldi ki, görüntü işlemeyle uğraşan birinin yolu mutlaka OpenCV ile yolu kesişir.\n",
        "\n",
        "**OpenCV ile Neler Yapılabilir ?**\n",
        "\n",
        "OpenCV’nin temellerini öğrendikten sonra yapabilecekleriniz, tamamen sizin hayal gücünüze bağlı. Ben sadece bazılarından bahsedeyim:\n",
        "\n",
        "*   Resim ve video gibi görsel ögeleri okuma ve yazma\n",
        "*   Bu ögeler üzerinde barındırdığı verilerle oynama ve değiştirme\n",
        "*  Görsel ögelerde istenen nesneleri saptama (canlı nesneler,şekiller,yazılar vs.)\n",
        "*   Duyguları saptama\n",
        "*   Renk, şekil, nesne takibi\n",
        "*   Hareket takibi\n",
        "*   Yaş ve cinsiyet analizi\n",
        "*   Sanal tuştakımı(klavye) oluşurma ve aklıma gelmeyen daha birçoğu…\n",
        "\n",
        "\n",
        "![My Image](https://secureservercdn.net/160.153.137.210/s97.c17.myftpupload.com/wp-content/uploads/14285711591298042.png)\n",
        "\n",
        "\n",
        "**Dipçe:** Bu not defteri oluşturulurken yararlanılan kaynaklar:\n",
        "\n",
        "*   http://gorselanaliz.com/\n",
        "*   https://opencv.org/\n",
        "\n"
      ],
      "id": "x83JPeGU42L6"
    },
    {
      "cell_type": "markdown",
      "metadata": {
        "id": "N0TN4_Uz6mAq"
      },
      "source": [
        "**Resim Okuma, Gösterme Kaydetme**"
      ],
      "id": "N0TN4_Uz6mAq"
    },
    {
      "cell_type": "code",
      "metadata": {
        "id": "fc2bc78d"
      },
      "source": [
        "import cv2\n",
        "import numpy as np"
      ],
      "id": "fc2bc78d",
      "execution_count": null,
      "outputs": []
    },
    {
      "cell_type": "code",
      "metadata": {
        "id": "0ce48827"
      },
      "source": [
        "img = cv2.imread(\"test.jpg\")\n",
        "img"
      ],
      "id": "0ce48827",
      "execution_count": null,
      "outputs": []
    },
    {
      "cell_type": "code",
      "metadata": {
        "id": "753f9053"
      },
      "source": [
        "width = 640\n",
        "height = 480\n",
        "\n",
        "resized_img = cv2.resize(img, (width,height)) "
      ],
      "id": "753f9053",
      "execution_count": null,
      "outputs": []
    },
    {
      "cell_type": "code",
      "metadata": {
        "id": "5397ee3b",
        "outputId": "0e98dbc5-dd36-4e04-ea24-767d1cebb2f5"
      },
      "source": [
        "cv2.imshow(\"Test\",img)\n",
        "cv2.waitKey(0)"
      ],
      "id": "5397ee3b",
      "execution_count": null,
      "outputs": [
        {
          "data": {
            "text/plain": [
              "-1"
            ]
          },
          "execution_count": 6,
          "metadata": {},
          "output_type": "execute_result"
        }
      ]
    },
    {
      "cell_type": "code",
      "metadata": {
        "id": "66af7e69",
        "outputId": "c34a9d62-18c9-4eeb-fb5b-726c12287c51"
      },
      "source": [
        "cv2.imshow(\"Resized Image\",resized_img)\n",
        "cv2.waitKey(0)"
      ],
      "id": "66af7e69",
      "execution_count": null,
      "outputs": [
        {
          "data": {
            "text/plain": [
              "-1"
            ]
          },
          "execution_count": 9,
          "metadata": {},
          "output_type": "execute_result"
        }
      ]
    },
    {
      "cell_type": "code",
      "metadata": {
        "id": "eab2ce3f",
        "outputId": "4afebd0e-c2c3-4963-92cb-701c8cae7b21"
      },
      "source": [
        "cv2.imwrite(\"resized_image.jpg\",resized_img)"
      ],
      "id": "eab2ce3f",
      "execution_count": null,
      "outputs": [
        {
          "data": {
            "text/plain": [
              "True"
            ]
          },
          "execution_count": 10,
          "metadata": {},
          "output_type": "execute_result"
        }
      ]
    },
    {
      "cell_type": "markdown",
      "metadata": {
        "id": "CB2M4oRE6uqO"
      },
      "source": [
        "**Resmin Boyutlarını ve Piksel Değerlerini İnceleme**"
      ],
      "id": "CB2M4oRE6uqO"
    },
    {
      "cell_type": "code",
      "metadata": {
        "id": "318fcd70",
        "outputId": "da1662aa-5262-40ff-f21d-8592c1c20656"
      },
      "source": [
        "img_shape = img.shape\n",
        "print(img_shape)"
      ],
      "id": "318fcd70",
      "execution_count": null,
      "outputs": [
        {
          "name": "stdout",
          "output_type": "stream",
          "text": [
            "(1707, 2560, 3)\n"
          ]
        }
      ]
    },
    {
      "cell_type": "code",
      "metadata": {
        "id": "b93f2fa8",
        "outputId": "e1bd2de4-b50b-4a7a-df29-a1685a0530ec"
      },
      "source": [
        "resized_img_shape = resized_img.shape\n",
        "print(resized_img_shape)"
      ],
      "id": "b93f2fa8",
      "execution_count": null,
      "outputs": [
        {
          "name": "stdout",
          "output_type": "stream",
          "text": [
            "(480, 640, 3)\n"
          ]
        }
      ]
    },
    {
      "cell_type": "code",
      "metadata": {
        "id": "1476ad74",
        "outputId": "1e160248-93f4-4c1c-949e-a42dc2d91741"
      },
      "source": [
        "color = resized_img[250,300]\n",
        "print(color)"
      ],
      "id": "1476ad74",
      "execution_count": null,
      "outputs": [
        {
          "name": "stdout",
          "output_type": "stream",
          "text": [
            "[ 87 117 190]\n"
          ]
        }
      ]
    },
    {
      "cell_type": "code",
      "metadata": {
        "id": "f09615ea",
        "outputId": "4ae117da-0fa3-46dc-92fd-28dedcdc11ec"
      },
      "source": [
        "blue = resized_img[250,300,0]\n",
        "print(\"Blue: \",blue)\n",
        "\n",
        "green = resized_img[250,300,1]\n",
        "print(\"Green: \",green)\n",
        "\n",
        "red = resized_img[250,300,2]\n",
        "print(\"Red: \",red)"
      ],
      "id": "f09615ea",
      "execution_count": null,
      "outputs": [
        {
          "name": "stdout",
          "output_type": "stream",
          "text": [
            "Blue:  87\n",
            "Green:  117\n",
            "Red:  190\n"
          ]
        }
      ]
    },
    {
      "cell_type": "code",
      "metadata": {
        "id": "06cdf09b",
        "outputId": "d7206046-eaa2-43a0-e725-2e195b078d65"
      },
      "source": [
        "resized_img[250,300,0] = 90\n",
        "print(resized_img[250,300,0])"
      ],
      "id": "06cdf09b",
      "execution_count": null,
      "outputs": [
        {
          "name": "stdout",
          "output_type": "stream",
          "text": [
            "90\n"
          ]
        }
      ]
    },
    {
      "cell_type": "markdown",
      "metadata": {
        "id": "uDDkbIKf62lS"
      },
      "source": [
        "**ROI**"
      ],
      "id": "uDDkbIKf62lS"
    },
    {
      "cell_type": "code",
      "metadata": {
        "id": "9383f604",
        "outputId": "baa52cc9-6513-4c68-cdc1-b5992ae43e59"
      },
      "source": [
        "ROI = resized_img[20:300, 100:500]\n",
        "\n",
        "cv2.imshow(\"ROI\",ROI)\n",
        "cv2.imshow(\"Resized Image\",resized_img)\n",
        "\n",
        "cv2.waitKey(0)"
      ],
      "id": "9383f604",
      "execution_count": null,
      "outputs": [
        {
          "data": {
            "text/plain": [
              "-1"
            ]
          },
          "execution_count": 25,
          "metadata": {},
          "output_type": "execute_result"
        }
      ]
    },
    {
      "cell_type": "markdown",
      "metadata": {
        "id": "oRzUQ8Z465N6"
      },
      "source": [
        "**Video Okuma ve Gösterme**"
      ],
      "id": "oRzUQ8Z465N6"
    },
    {
      "cell_type": "code",
      "metadata": {
        "id": "b4ea05ac"
      },
      "source": [
        "cap = cv2.VideoCapture(\"test.mp4\")\n",
        "\n",
        "while True:\n",
        "    ret,frame = cap.read()\n",
        "    \n",
        "    resized_frame = cv2.resize(frame,(1280,720))\n",
        "    gray_frame = cv2.cvtColor(frame,cv2.COLOR_BGR2GRAY)\n",
        "    \n",
        "    if ret == False:\n",
        "        print(\" [INFO] Processing is done... \")\n",
        "        break\n",
        "    \n",
        "    else:\n",
        "        print(\" [INFO] Processing is continued... \")\n",
        "        cv2.imshow(\"Video\", frame)\n",
        "\n",
        "        if cv2.waitKey(10) & 0xFF == ord(\"q\"):\n",
        "            break\n",
        "\n",
        "cap.release()\n",
        "cv2.destroyAllWindows()"
      ],
      "id": "b4ea05ac",
      "execution_count": null,
      "outputs": []
    },
    {
      "cell_type": "markdown",
      "metadata": {
        "id": "LdL4q7R46-8K"
      },
      "source": [
        "**Çizim Fonksiyonları** "
      ],
      "id": "LdL4q7R46-8K"
    },
    {
      "cell_type": "code",
      "metadata": {
        "id": "c30da088",
        "outputId": "4dc4793d-d007-4f59-8ef6-fbd486a95a1e"
      },
      "source": [
        "test = np.zeros((512,512,3), np.uint8) + 150\n",
        "cv2.imshow(\"Screen\", test)\n",
        "cv2.waitKey(0)"
      ],
      "id": "c30da088",
      "execution_count": null,
      "outputs": [
        {
          "data": {
            "text/plain": [
              "-1"
            ]
          },
          "execution_count": 3,
          "metadata": {},
          "output_type": "execute_result"
        }
      ]
    },
    {
      "cell_type": "code",
      "metadata": {
        "id": "b57265b1",
        "outputId": "c8d8ac64-9caf-48a6-ece7-1cf7d0410454"
      },
      "source": [
        "cv2.rectangle(test, (100,100), (300,300), (0,255,0), -1)\n",
        "\n",
        "cv2.circle(test, (300,300), 100, (255,0,0), -1)\n",
        "\n",
        "cv2.line(test, (0,0), (512,512), (0,0,255),3)\n",
        "\n",
        "font = cv2.FONT_HERSHEY_SIMPLEX\n",
        "cv2.putText(test, \"OPENCV\", (100,100), font, 2, (0,0,0), 4, cv2.LINE_AA)\n",
        "\n",
        "cv2.imshow(\"Screen\", test)\n",
        "cv2.waitKey(0)"
      ],
      "id": "b57265b1",
      "execution_count": null,
      "outputs": [
        {
          "data": {
            "text/plain": [
              "-1"
            ]
          },
          "execution_count": 4,
          "metadata": {},
          "output_type": "execute_result"
        }
      ]
    }
  ]
}